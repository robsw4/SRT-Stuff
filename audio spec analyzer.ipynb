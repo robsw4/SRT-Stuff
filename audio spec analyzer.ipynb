{
 "cells": [
  {
   "cell_type": "code",
   "execution_count": 1,
   "metadata": {
    "scrolled": true
   },
   "outputs": [],
   "source": [
    "import numpy as np\n",
    "import matplotlib.pyplot as plt\n",
    "from scipy.io import wavfile\n",
    "from scipy.fftpack import fft, fftfreq, ifft\n",
    "\n",
    "%matplotlib inline"
   ]
  },
  {
   "cell_type": "code",
   "execution_count": 34,
   "metadata": {},
   "outputs": [
    {
     "name": "stdout",
     "output_type": "stream",
     "text": [
      "[0.00000000e+00 2.63828565e-01 5.27657131e-01 ... 2.20494723e+04\n",
      " 2.20497362e+04 2.20500000e+04]\n",
      "[ 0.          0.26382383  0.52764766 ... -0.79147149 -0.52764766\n",
      " -0.26382383]\n"
     ]
    },
    {
     "data": {
      "text/plain": [
       "[0, 1000, 0, 1]"
      ]
     },
     "execution_count": 34,
     "metadata": {},
     "output_type": "execute_result"
    },
    {
     "data": {
      "image/png": "[encoded data removed]",
      "text/plain": [
       "<matplotlib.figure.Figure at 0x7f6c3bcaf828>"
      ]
     },
     "metadata": {},
     "output_type": "display_data"
    }
   ],
   "source": [
    "# plt.plot(x, y)\n",
    "# fft(y)\n",
    "a, b = getSample(0, time)\n",
    "print(a)\n",
    "print(fftfreq(cycles, 1.0/rate))\n",
    "l = len(fft(y))\n",
    "plt.plot(fftfreq(cycles, 1.0/rate)[:int(l/2)], np.abs(fft(y))[:int(l/2)] / max(np.abs(fft(y))[:int(l/2)]))\n",
    "plt.axis([0, 1000, 0, 1])"
   ]
  },
  {
   "cell_type": "code",
   "execution_count": 4,
   "metadata": {},
   "outputs": [
    {
     "ename": "FileNotFoundError",
     "evalue": "[Errno 2] No such file or directory: 'note2.wav'",
     "output_type": "error",
     "traceback": [
      "\u001b[1;31m---------------------------------------------------------------------------\u001b[0m",
      "\u001b[1;31mFileNotFoundError\u001b[0m                         Traceback (most recent call last)",
      "\u001b[1;32m<ipython-input-4-6c3a810f9692>\u001b[0m in \u001b[0;36m<module>\u001b[1;34m\u001b[0m\n\u001b[0;32m     49\u001b[0m     \u001b[1;32mreturn\u001b[0m \u001b[1;36m0\u001b[0m\u001b[1;33m\u001b[0m\u001b[1;33m\u001b[0m\u001b[0m\n\u001b[0;32m     50\u001b[0m \u001b[1;33m\u001b[0m\u001b[0m\n\u001b[1;32m---> 51\u001b[1;33m \u001b[0mrate\u001b[0m\u001b[1;33m,\u001b[0m \u001b[0mdata\u001b[0m \u001b[1;33m=\u001b[0m \u001b[0mwavfile\u001b[0m\u001b[1;33m.\u001b[0m\u001b[0mread\u001b[0m\u001b[1;33m(\u001b[0m\u001b[1;34m'note2.wav'\u001b[0m\u001b[1;33m)\u001b[0m  \u001b[1;31m# reads wav\u001b[0m\u001b[1;33m\u001b[0m\u001b[1;33m\u001b[0m\u001b[0m\n\u001b[0m\u001b[0;32m     52\u001b[0m \u001b[0my\u001b[0m \u001b[1;33m=\u001b[0m \u001b[0mnp\u001b[0m\u001b[1;33m.\u001b[0m\u001b[0marray\u001b[0m\u001b[1;33m(\u001b[0m\u001b[1;33m[\u001b[0m\u001b[0mi\u001b[0m\u001b[1;33m[\u001b[0m\u001b[1;36m0\u001b[0m\u001b[1;33m]\u001b[0m \u001b[1;32mfor\u001b[0m \u001b[0mi\u001b[0m \u001b[1;32min\u001b[0m \u001b[0mdata\u001b[0m\u001b[1;33m]\u001b[0m\u001b[1;33m)\u001b[0m      \u001b[1;31m# takes the left channel\u001b[0m\u001b[1;33m\u001b[0m\u001b[1;33m\u001b[0m\u001b[0m\n\u001b[0;32m     53\u001b[0m \u001b[0mpeak\u001b[0m \u001b[1;33m=\u001b[0m \u001b[0mmax\u001b[0m\u001b[1;33m(\u001b[0m\u001b[0my\u001b[0m\u001b[1;33m)\u001b[0m\u001b[1;33m\u001b[0m\u001b[1;33m\u001b[0m\u001b[0m\n",
      "\u001b[1;32m~\\Anaconda3\\lib\\site-packages\\scipy\\io\\wavfile.py\u001b[0m in \u001b[0;36mread\u001b[1;34m(filename, mmap)\u001b[0m\n\u001b[0;32m    231\u001b[0m         \u001b[0mmmap\u001b[0m \u001b[1;33m=\u001b[0m \u001b[1;32mFalse\u001b[0m\u001b[1;33m\u001b[0m\u001b[1;33m\u001b[0m\u001b[0m\n\u001b[0;32m    232\u001b[0m     \u001b[1;32melse\u001b[0m\u001b[1;33m:\u001b[0m\u001b[1;33m\u001b[0m\u001b[1;33m\u001b[0m\u001b[0m\n\u001b[1;32m--> 233\u001b[1;33m         \u001b[0mfid\u001b[0m \u001b[1;33m=\u001b[0m \u001b[0mopen\u001b[0m\u001b[1;33m(\u001b[0m\u001b[0mfilename\u001b[0m\u001b[1;33m,\u001b[0m \u001b[1;34m'rb'\u001b[0m\u001b[1;33m)\u001b[0m\u001b[1;33m\u001b[0m\u001b[1;33m\u001b[0m\u001b[0m\n\u001b[0m\u001b[0;32m    234\u001b[0m \u001b[1;33m\u001b[0m\u001b[0m\n\u001b[0;32m    235\u001b[0m     \u001b[1;32mtry\u001b[0m\u001b[1;33m:\u001b[0m\u001b[1;33m\u001b[0m\u001b[1;33m\u001b[0m\u001b[0m\n",
      "\u001b[1;31mFileNotFoundError\u001b[0m: [Errno 2] No such file or directory: 'note2.wav'"
     ]
    }
   ],
   "source": [
    "# Definitions\n",
    "class sample:\n",
    "    def __init__(i, f, x, y):\n",
    "        self.x = self.getRange(x, i, f)\n",
    "        self.y = self.getRange(y, i, f)\n",
    "        self.xf = (rate / 2) * np.linspace(0, 1, len(sx)/2)\n",
    "        self.yf = np.abs(fft(sy)[:np.size(sxf)])\n",
    "        return sxf, syf\n",
    "    def getValue(y, t):\n",
    "        return np.array(y[int(44100.0 * t)])\n",
    "    def getRange(y, ti, tf):\n",
    "        return np.array(y[int(44100.0 * ti):int(44100.0 * tf)])\n",
    "\n",
    "class wavdataparser:\n",
    "    def __init__(file):\n",
    "        self.rate, self.data = wavfile.read('note2.wav')  # reads wav\n",
    "        self.y = np.array([i[0] for i in data])           # takes the left channel\n",
    "        self.normalize()\n",
    "        \n",
    "    def normalize():\n",
    "        cycles = y.size\n",
    "        time = cycles/rate\n",
    "        self.x = np.linspace(0, time, cycles)\n",
    "        self.y = np.array([i / peak for i in y])\n",
    "        \n",
    "def getValue(y, t):\n",
    "    return np.array(y[int(44100.0 * t)])\n",
    "def getRange(y, ti, tf):\n",
    "    return np.array(y[int(44100.0 * ti):int(44100.0 * tf)])\n",
    "def getSample(i, f):\n",
    "    sx = getRange(x, i, f)\n",
    "    sy = getRange(y, i, f)\n",
    "    sxf = (rate / 2) * np.linspace(0, 1, len(sx)/2)\n",
    "    syf = np.abs(fft(sy)[:np.size(sxf)])\n",
    "    return sxf, syf\n",
    "def getMax(arr, i, f):\n",
    "    minarr = arr[i:f]\n",
    "    return minarr[np.where(minarr == max(minarr))[0]]\n",
    "def findFirstPeak(arr):\n",
    "    halfamp = 0.5 * max(arr)\n",
    "    d_arr = [arr[i + 1] - arr[i] for i in range(len(arr)-1)]\n",
    "    found = False\n",
    "    s = 0    \n",
    "    indicies = np.where(np.array(d_arr[s:]) < 0)\n",
    "    indicies = indicies[1:] if (indicies[0] == 0) else indicies\n",
    "    for i in indicies:\n",
    "        if d_arr[index - 1] > 0 and d_arr[index] > halfamp:\n",
    "            return index\n",
    "    return 0\n",
    "\n",
    "rate, data = wavfile.read('note2.wav')  # reads wav\n",
    "y = np.array([i[0] for i in data])      # takes the left channel\n",
    "peak = max(y)\n",
    "\n",
    "# Normalize Data\n",
    "cycles = y.size\n",
    "time = cycles/rate\n",
    "x = np.linspace(0, time, cycles)\n",
    "y = np.array([i / peak for i in y])"
   ]
  },
  {
   "cell_type": "code",
   "execution_count": 3,
   "metadata": {
    "scrolled": true
   },
   "outputs": [
    {
     "ename": "NameError",
     "evalue": "name 'x' is not defined",
     "output_type": "error",
     "traceback": [
      "\u001b[1;31m---------------------------------------------------------------------------\u001b[0m",
      "\u001b[1;31mNameError\u001b[0m                                 Traceback (most recent call last)",
      "\u001b[1;32m<ipython-input-3-d79403b4cce0>\u001b[0m in \u001b[0;36m<module>\u001b[1;34m\u001b[0m\n\u001b[0;32m      2\u001b[0m \u001b[1;33m\u001b[0m\u001b[0m\n\u001b[0;32m      3\u001b[0m \u001b[1;31m# plotting Amp Time graphs\u001b[0m\u001b[1;33m\u001b[0m\u001b[1;33m\u001b[0m\u001b[1;33m\u001b[0m\u001b[0m\n\u001b[1;32m----> 4\u001b[1;33m \u001b[0mplt\u001b[0m\u001b[1;33m.\u001b[0m\u001b[0mplot\u001b[0m\u001b[1;33m(\u001b[0m\u001b[0mx\u001b[0m\u001b[1;33m,\u001b[0m \u001b[0my\u001b[0m\u001b[1;33m)\u001b[0m\u001b[1;33m\u001b[0m\u001b[1;33m\u001b[0m\u001b[0m\n\u001b[0m\u001b[0;32m      5\u001b[0m \u001b[1;31m# plt.axis([0.1, 0.15, -1, 1]) # cycles\u001b[0m\u001b[1;33m\u001b[0m\u001b[1;33m\u001b[0m\u001b[1;33m\u001b[0m\u001b[0m\n\u001b[0;32m      6\u001b[0m \u001b[0mplt\u001b[0m\u001b[1;33m.\u001b[0m\u001b[0mtitle\u001b[0m\u001b[1;33m(\u001b[0m\u001b[1;34m\"Amplitude vs. Time\"\u001b[0m\u001b[1;33m)\u001b[0m\u001b[1;33m\u001b[0m\u001b[1;33m\u001b[0m\u001b[0m\n",
      "\u001b[1;31mNameError\u001b[0m: name 'x' is not defined"
     ]
    }
   ],
   "source": [
    "# Normalized Data Plot\n",
    "\n",
    "# plotting Amp Time graphs\n",
    "plt.plot(x, y)\n",
    "# plt.axis([0.1, 0.15, -1, 1]) # cycles\n",
    "plt.title(\"Amplitude vs. Time\")\n",
    "plt.xlabel(\"Time (s)\")\n",
    "plt.ylabel(\"Amplitude\")\n",
    "# plt.show()\n",
    "plt.savefig(\"imgs/amptime.svg\", type=\"svg\")"
   ]
  },
  {
   "cell_type": "code",
   "execution_count": 26,
   "metadata": {
    "scrolled": false
   },
   "outputs": [
    {
     "data": {
      "image/png": "[encoded data removed]",
      "text/plain": [
       "<matplotlib.figure.Figure at 0x7f15001cd4a8>"
      ]
     },
     "metadata": {},
     "output_type": "display_data"
    }
   ],
   "source": [
    "# Displays side by side graphics\n",
    "\n",
    "# fig, (ax1, ax2) = plt.subplots(2)\n",
    "# fig.suptitle('Raw Data Samples 1 + 2')\n",
    "\n",
    "# sample 1\n",
    "sxf1, syf1 = getSample(0.1, 0.3)\n",
    "# ax1.plot(sxf1, syf1)\n",
    "# ax1.axis([0,2000, 0, 600])\n",
    "# sample 2\n",
    "sxf2, syf2 = getSample(0.3, 0.5)\n",
    "# ax2.plot(sxf2, syf2)\n",
    "# ax2.axis([0,2000, 0, 600])\n",
    "\n",
    "fftx, ffty = getSample(0.2, 0.4)\n",
    "plt.plot(fftx,ffty)\n",
    "plt.title(\"Amplitude vs. Frequency\")\n",
    "plt.xlabel(\"Frequency (1/s)\")\n",
    "plt.ylabel(\"Amplitude\")\n",
    "plt.axis([0, 2000, 0, 600])\n",
    "\n",
    "# xval = np.array(sxf1[findFirstPeak(syf1)])\n",
    "# yval = np.array(syf1[findFirstPeak(syf1)])\n",
    "# plt.plot(xval, yval, 'bo')\n",
    "plt.savefig(\"test.svg\")"
   ]
  },
  {
   "cell_type": "code",
   "execution_count": 26,
   "metadata": {},
   "outputs": [],
   "source": [
    "# # calculates transformed values\n",
    "# fy = ft.fft(y)                  # applies fourier transform\n",
    "# plt.plot(np.abs(fy[0:4000]))    # takes positive values from graph\n",
    "# plt.show()"
   ]
  },
  {
   "cell_type": "code",
   "execution_count": 5,
   "metadata": {},
   "outputs": [],
   "source": [
    "# # transforms plots to the start\n",
    "ffy = ft.ifft(fy)\n",
    "plt.plot(ffy)"
   ]
  },
  {
   "cell_type": "code",
   "execution_count": null,
   "metadata": {},
   "outputs": [],
   "source": [
    "rate, data = wavfile.read('note2.wav')  # reads wav\n",
    "y = np.array([i[0] for i in data])      # takes the left channel\n",
    "\n",
    "# Normalize Data\n",
    "cycles = y.size\n",
    "time = cycles / rate\n",
    "x = np.linspace(0, time, cycles)        # Scaled Time Axis\n",
    "y = np.array([i / peak for i in y])     # Normalized Peak Height\n",
    "\n",
    "# Plots\n",
    "plt.plot(x, y) # 2 slides ago\n",
    "plt.plot(fftfreq(time, cycles), fft(y)) # last slide"
   ]
  }
 ],
 "metadata": {
  "kernelspec": {
   "display_name": "Python 3",
   "language": "python",
   "name": "python3"
  },
  "language_info": {
   "codemirror_mode": {
    "name": "ipython",
    "version": 3
   },
   "file_extension": ".py",
   "mimetype": "text/x-python",
   "name": "python",
   "nbconvert_exporter": "python",
   "pygments_lexer": "ipython3",
   "version": "3.7.1"
  }
 },
 "nbformat": 4,
 "nbformat_minor": 2
}
