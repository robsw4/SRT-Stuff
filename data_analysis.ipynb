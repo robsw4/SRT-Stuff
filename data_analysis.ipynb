{
  "cells": [
    {
      "metadata": {
        "trusted": true
      },
      "cell_type": "code",
      "source": "# Libraries\nimport numpy as np\nimport matplotlib.pyplot as plt\nfrom scipy.io import wavfile\nfrom scipy.fftpack import fft, fftfreq, ifft\nfrom scipy.optimize import *\nimport pandas as pd\nfrom scipy.signal import find_peaks",
      "execution_count": 2,
      "outputs": []
    },
    {
      "metadata": {
        "trusted": true
      },
      "cell_type": "code",
      "source": "# Definitions\nclass data:\n    def __init__(self, file):                        # start/end (sec) wave object\n        read_file = np.load('data/analyzed/' + file + '.npy')\n        self.x, self.y = read_file[0], read_file[1]                                      # Obtain time data\n        self.sx, self.sy = read_file[2], read_file[3]                                    # Obtain freq data\n        self.roundtime = lambda t: t - (t % (self.x[1]-self.x[0]))                       # Finds nearst time in data\n        self.timeIndex = lambda x: np.where(self.x==self.roundtime(x))[0]                # Calculates the index of a time\n        self.freqIndex = lambda f: np.where(self.sx==f)[0]                               # Calculates the index of a frequency\n        self.frequency = lambda i: self.sx[i]                                            # Returns the frequency from index\n        self.fundfreq = self.frequency(np.where(self.sy==max(self.sy))[0][0])\n        self.fundtime = 1.0 / self.fundfreq\n        self.t_axis = [0, self.x[-1], -1, 1]\n        self.f_axis = [0, 100, 0, 1.2]\n    def analyzingPeaks(self):\n        plt.plot(self.sx, self.sy)\n        plt.axis([0, 250, 0, 1])\n        peaks, _ = find_peaks(testdata[3], distance=25)\n        x_pts = [testdata[2][peak] for peak in peaks]\n        y_pts = [testdata[3][peak] for peak in peaks]\n        plt.plot(x_pts, y_pts, 'rx')\n        print(peaks)",
      "execution_count": 3,
      "outputs": []
    },
    {
      "metadata": {
        "trusted": true
      },
      "cell_type": "code",
      "source": "obj = data('AC_HIGH_G')\n# plt.plot(fftfreq(obj.x[-1]), fft(obj.y))\nfile = np.load('data/analyzed/EL_MID_G.npy')\n# plt.plot(file[0], file[1])\n# plt.axis([0, file[0][-1], -1, 1])\nplt.plot(fftfreq(file[0]), frfile[1])\nplt.axis([0, 50, 0, 1])",
      "execution_count": 17,
      "outputs": [
        {
          "output_type": "execute_result",
          "execution_count": 17,
          "data": {
            "text/plain": "[0, 50, 0, 1]"
          },
          "metadata": {}
        },
        {
          "output_type": "display_data",
          "data": {
            "image/png": "[encoded data removed]",
            "text/plain": "<Figure size 432x288 with 1 Axes>"
          },
          "metadata": {
            "needs_background": "light"
          }
        }
      ]
    },
    {
      "metadata": {
        "trusted": true
      },
      "cell_type": "code",
      "source": "",
      "execution_count": null,
      "outputs": []
    }
  ],
  "metadata": {
    "kernelspec": {
      "name": "python36",
      "display_name": "Python 3.6",
      "language": "python"
    },
    "language_info": {
      "mimetype": "text/x-python",
      "nbconvert_exporter": "python",
      "name": "python",
      "pygments_lexer": "ipython3",
      "version": "3.6.6",
      "file_extension": ".py",
      "codemirror_mode": {
        "version": 3,
        "name": "ipython"
      }
    }
  },
  "nbformat": 4,
  "nbformat_minor": 2
}