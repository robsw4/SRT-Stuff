{
  "cells": [
    {
      "metadata": {
        "trusted": true
      },
      "cell_type": "code",
      "source": "import numpy as np\nimport matplotlib.pyplot as plt\nfrom scipy.io import wavfile\nimport scipy.fftpack as ft\n\n%matplotlib inline",
      "execution_count": 19,
      "outputs": []
    },
    {
      "metadata": {
        "trusted": true,
        "scrolled": false
      },
      "cell_type": "code",
      "source": "rate, data = wavfile.read('note2.wav')\ny = np.array([i[0] for i in data])\n# plt.plot(y)\nyf = ft.fft(y)\n# plt.plot(np.abs(yf))\nyff = ft.ifft(yf)\n# plt.plot(yff)",
      "execution_count": 31,
      "outputs": []
    },
    {
      "metadata": {
        "trusted": true
      },
      "cell_type": "code",
      "source": "pass\nwith open('note1_spectrum.txt') as f:\n    data = f.readlines()[1:]\n# print(data)\nprint(data[0:5])\nfrequency, intensity = [s[0:s.index('\\\\')] for s in data], [s[s.index('t')+1:-2] for s in data]\nprint(frequency[0:5])",
      "execution_count": null,
      "outputs": []
    },
    {
      "metadata": {
        "trusted": true
      },
      "cell_type": "code",
      "source": "# file = pd.read_csv('note1_spectrum.txt', sep='\\t')\n# file\n\n# fs, data = wavfile.read('note2.wav')\n# x = [i[0] for i in data]\n# y = [i[1] for i in data]\n# plt.plot(x)\n# plt.axis([0,100, 25, 75])\n# plt.show()",
      "execution_count": 44,
      "outputs": []
    },
    {
      "metadata": {
        "trusted": true
      },
      "cell_type": "code",
      "source": "file = wave.open('note2.wav')\nfile",
      "execution_count": 46,
      "outputs": [
        {
          "output_type": "execute_result",
          "execution_count": 46,
          "data": {
            "text/plain": "<wave.Wave_read at 0x7fe1a553fd68>"
          },
          "metadata": {}
        }
      ]
    },
    {
      "metadata": {
        "trusted": true
      },
      "cell_type": "code",
      "source": "import matplotlib.pyplot as plt\nimport numpy as np\nimport wave\nimport sys\n\n\nspf = wave.open('note2.wav','r')\n\n#Extract Raw Audio from Wav File\nsignal = spf.readframes(-1)\nsignal = np.fromstring(signal, 'Int16')\n\n\n#If Stereo\n# if spf.getnchannels() == 2:\n#     print 'Just mono files'\n#     sys.exit(0)\n\n# plt.figure(1)\n# plt.title('Signal Wave...')\n# plt.plot(signal)\n# plt.show()\nsignal",
      "execution_count": 50,
      "outputs": [
        {
          "output_type": "stream",
          "text": "/home/nbuser/anaconda3_501/lib/python3.6/site-packages/ipykernel/__main__.py:11: DeprecationWarning: Numeric-style type codes are deprecated and will result in an error in the future.\n/home/nbuser/anaconda3_501/lib/python3.6/site-packages/ipykernel/__main__.py:11: DeprecationWarning: The binary mode of fromstring is deprecated, as it behaves surprisingly on unicode inputs. Use frombuffer instead\n",
          "name": "stderr"
        },
        {
          "output_type": "execute_result",
          "execution_count": 50,
          "data": {
            "text/plain": "array([ 47,  45,  47, ..., 769, 846, 781], dtype=int16)"
          },
          "metadata": {}
        }
      ]
    },
    {
      "metadata": {
        "trusted": true
      },
      "cell_type": "code",
      "source": "",
      "execution_count": null,
      "outputs": []
    }
  ],
  "metadata": {
    "kernelspec": {
      "name": "python36",
      "display_name": "Python 3.6",
      "language": "python"
    },
    "language_info": {
      "mimetype": "text/x-python",
      "nbconvert_exporter": "python",
      "name": "python",
      "pygments_lexer": "ipython3",
      "version": "3.6.6",
      "file_extension": ".py",
      "codemirror_mode": {
        "version": 3,
        "name": "ipython"
      }
    }
  },
  "nbformat": 4,
  "nbformat_minor": 2
}